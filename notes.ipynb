{
 "cells": [
  {
   "cell_type": "markdown",
   "metadata": {},
   "source": [
    "* Scalars(*Rank 0* Tensors) in **Python**"
   ]
  },
  {
   "cell_type": "code",
   "execution_count": 1,
   "metadata": {},
   "outputs": [],
   "source": [
    "import sys"
   ]
  },
  {
   "cell_type": "code",
   "execution_count": 2,
   "metadata": {},
   "outputs": [
    {
     "name": "stdout",
     "output_type": "stream",
     "text": [
      "Requirement already satisfied: torch in c:\\users\\irfanghat\\.pyenv\\pyenv-win\\versions\\3.11.0\\lib\\site-packages (2.1.2)\n",
      "Requirement already satisfied: filelock in c:\\users\\irfanghat\\.pyenv\\pyenv-win\\versions\\3.11.0\\lib\\site-packages (from torch) (3.13.1)\n",
      "Requirement already satisfied: typing-extensions in c:\\users\\irfanghat\\.pyenv\\pyenv-win\\versions\\3.11.0\\lib\\site-packages (from torch) (4.8.0)\n",
      "Requirement already satisfied: sympy in c:\\users\\irfanghat\\.pyenv\\pyenv-win\\versions\\3.11.0\\lib\\site-packages (from torch) (1.12)\n",
      "Requirement already satisfied: networkx in c:\\users\\irfanghat\\.pyenv\\pyenv-win\\versions\\3.11.0\\lib\\site-packages (from torch) (3.2.1)\n",
      "Requirement already satisfied: jinja2 in c:\\users\\irfanghat\\.pyenv\\pyenv-win\\versions\\3.11.0\\lib\\site-packages (from torch) (3.1.2)\n",
      "Requirement already satisfied: fsspec in c:\\users\\irfanghat\\.pyenv\\pyenv-win\\versions\\3.11.0\\lib\\site-packages (from torch) (2023.12.2)\n",
      "Requirement already satisfied: MarkupSafe>=2.0 in c:\\users\\irfanghat\\.pyenv\\pyenv-win\\versions\\3.11.0\\lib\\site-packages (from jinja2->torch) (2.1.3)\n",
      "Requirement already satisfied: mpmath>=0.19 in c:\\users\\irfanghat\\.pyenv\\pyenv-win\\versions\\3.11.0\\lib\\site-packages (from sympy->torch) (1.3.0)\n"
     ]
    },
    {
     "name": "stderr",
     "output_type": "stream",
     "text": [
      "\n",
      "[notice] A new release of pip available: 22.3 -> 23.3.2\n",
      "[notice] To update, run: c:\\Users\\IrfanGhat\\.pyenv\\pyenv-win\\versions\\3.11.0\\python.exe -m pip install --upgrade pip\n"
     ]
    }
   ],
   "source": [
    "! {sys.executable} -m pip install torch"
   ]
  },
  {
   "cell_type": "code",
   "execution_count": 3,
   "metadata": {},
   "outputs": [
    {
     "name": "stderr",
     "output_type": "stream",
     "text": [
      "c:\\Users\\IrfanGhat\\.pyenv\\pyenv-win\\versions\\3.11.0\\Lib\\site-packages\\torch\\nn\\modules\\transformer.py:20: UserWarning: Failed to initialize NumPy: No module named 'numpy' (Triggered internally at ..\\torch\\csrc\\utils\\tensor_numpy.cpp:84.)\n",
      "  device: torch.device = torch.device(torch._C._get_default_device()),  # torch.device('cpu'),\n"
     ]
    }
   ],
   "source": [
    "import torch"
   ]
  },
  {
   "cell_type": "code",
   "execution_count": 4,
   "metadata": {},
   "outputs": [
    {
     "data": {
      "text/plain": [
       "tensor(69)"
      ]
     },
     "execution_count": 4,
     "metadata": {},
     "output_type": "execute_result"
    }
   ],
   "source": [
    "x_pt = torch.tensor(69)\n",
    "x_pt"
   ]
  },
  {
   "cell_type": "code",
   "execution_count": 11,
   "metadata": {},
   "outputs": [
    {
     "name": "stdout",
     "output_type": "stream",
     "text": [
      "TENSOR_SHAPE: torch.Size([])\n",
      "DIMENSIONS: 0\n",
      "TENSOR_TYPE: torch.LongTensor\n",
      "TENSOR_TYPE: \n"
     ]
    }
   ],
   "source": [
    "tensor_type: str = ''\n",
    "\n",
    "print(f'TENSOR_SHAPE: {x_pt.shape}')\n",
    "print(f'DIMENSIONS: {len(x_pt.shape)}')\n",
    "\n",
    "if len(x_pt.shape) == 0:\n",
    "    tensor_type = \"scalar\"\n",
    "\n",
    "print(f'TENSOR_TYPE: {x_pt.type()}')\n",
    "print(f'TENSOR_TYPE: {tensor_type}')\n"
   ]
  },
  {
   "cell_type": "code",
   "execution_count": null,
   "metadata": {},
   "outputs": [],
   "source": []
  }
 ],
 "metadata": {
  "kernelspec": {
   "display_name": "Python 3",
   "language": "python",
   "name": "python3"
  },
  "language_info": {
   "codemirror_mode": {
    "name": "ipython",
    "version": 3
   },
   "file_extension": ".py",
   "mimetype": "text/x-python",
   "name": "python",
   "nbconvert_exporter": "python",
   "pygments_lexer": "ipython3",
   "version": "3.11.0"
  }
 },
 "nbformat": 4,
 "nbformat_minor": 2
}
